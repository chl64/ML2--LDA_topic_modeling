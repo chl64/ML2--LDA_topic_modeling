{
 "cells": [
  {
   "cell_type": "markdown",
   "metadata": {},
   "source": [
    "## Bayesian Model (global vocab prob $\\beta_m$)"
   ]
  },
  {
   "cell_type": "code",
   "execution_count": 1,
   "metadata": {},
   "outputs": [
    {
     "data": {
      "text/plain": [
       "6906"
      ]
     },
     "execution_count": 1,
     "metadata": {},
     "output_type": "execute_result"
    }
   ],
   "source": [
    "import scipy.io as sio\n",
    "import numpy as np\n",
    "import matplotlib.pyplot as plt\n",
    "%matplotlib inline\n",
    "\n",
    "data = sio.loadmat('kos_doc_data.mat')\n",
    "\n",
    "A = data['A']\n",
    "B = data['B']\n",
    "V = data['V']\n",
    "\n",
    "M = np.max([np.max(A[:, 1]), np.max(B[:, 1])])   # total no of vocabs\n",
    "M"
   ]
  },
  {
   "cell_type": "code",
   "execution_count": 3,
   "metadata": {},
   "outputs": [
    {
     "data": {
      "text/plain": [
       "353160"
      ]
     },
     "execution_count": 3,
     "metadata": {},
     "output_type": "execute_result"
    }
   ],
   "source": [
    "A.shape[0] + B.shape[0]"
   ]
  },
  {
   "cell_type": "markdown",
   "metadata": {},
   "source": [
    "### Calculate log probability for the test document with ID 2001."
   ]
  },
  {
   "cell_type": "code",
   "execution_count": 66,
   "metadata": {},
   "outputs": [
    {
     "name": "stdout",
     "output_type": "stream",
     "text": [
      "vocab IDs, w = [  69   75   76   77   89  149  264  281  306  337  352  434  478  518\n",
      "  520  549  580  585  707  720  747  756  841  847  849  850  910  912\n",
      " 1000 1035 1078 1084 1114 1120 1168 1197 1231 1259 1274 1331 1334 1336\n",
      " 1400 1416 1477 1516 1518 1531 1553 1597 1601 1614 1656 1663 1740 1756\n",
      " 1775 1837 1838 1873 1959 1978 1992 1996 1999 2000 2030 2031 2032 2042\n",
      " 2072 2073 2074 2128 2220 2232 2278 2279 2353 2356 2369 2375 2409 2410\n",
      " 2429 2533 2641 2654 2706 2756 2764 2876 2877 2919 2920 2937 2953 2959\n",
      " 3107 3120 3123 3129 3130 3131 3156 3157 3170 3211 3226 3238 3245 3344\n",
      " 3345 3346 3401 3424 3472 3530 3584 3585 3655 3656 3693 3695 3700 3754\n",
      " 3760 3771 3772 3776 3789 3791 3936 3950 3970 3980 4092 4155 4185 4186\n",
      " 4190 4194 4268 4319 4467 4497 4505 4509 4511 4519 4543 4565 4592 4734\n",
      " 4743 4757 4799 4800 4811 4917 4973 4991 5036 5039 5040 5051 5057 5066\n",
      " 5098 5120 5121 5132 5136 5138 5157 5168 5173 5185 5186 5202 5307 5365\n",
      " 5435 5451 5529 5626 5641 5678 5680 5681 5712 5718 5725 5735 5738 5788\n",
      " 5791 5854 5866 5891 5896 5909 5913 5917 5988 6021 6043 6057 6078 6126\n",
      " 6143 6197 6208 6291 6296 6299 6478 6521 6568 6585 6668 6674 6725 6745\n",
      " 6775 6798 6824 6836 6880 6881 6887 6894] \n",
      "\n",
      "vocab counts, c = [ 3  1  1  1  1  1  1  1  1  1  1  3  1  2  3  1  1  1  4  4  1  1  4  2\n",
      "  2  1  1  1  1  2  1  3  4  1  1  1  1  1  1  1  1  4  1  6  1  1  1  3\n",
      "  3  1  1  1  4  1  1  2  1  6 10  1  1  1  1  5  1  1  4  1  1  1  3  2\n",
      "  1  1  1  1  1  1  1  4  1  5  1  2  5  2  2  2  1  1  3  7  1  2  4  2\n",
      "  1  1  1  1  1  4  2  9  3  1  2  6  1  1  1  3  1  4  3  3  7  3  1  4\n",
      "  1  1  1  1  3  2  1  1  1  1  1  7  1  3  1  1  1  1  1  5  1  1  1  2\n",
      "  1  2  1  1  2  1  1  1  2  2  1  1  1  1  1  1  1  2  1  1  2  1  2  1\n",
      "  1  2  1  1  4  1  1 13  4  1  1  4  2  1  2  1  1  1  1  1  1  1  1  2\n",
      "  1  2  1  1  1  1  1  1  8  1  1  1  1  1  1  1  1  1  2  1  2  1  1  2\n",
      "  1  1  1  2  4  1  1  4  1  1  1  8  2  3  1  1] \n",
      "\n",
      "Check if `w` and `c` have the same length: True \n",
      "\n",
      "There are 232 vocabs in doc 2001 ; 440 words in total \n",
      "\n",
      "BI_beta = [1.79337456e-05 6.45614841e-05 5.02144876e-05 ... 6.45614841e-05\n",
      " 1.18362721e-04 2.51072438e-05]\n"
     ]
    }
   ],
   "source": [
    "d = 2001\n",
    "\n",
    "test_document = np.where(B[:, 0] == d)  # get all occurrences of document d in the training data\n",
    "w = B[test_document, 1][0]  # IDs of vocabs **in document d**\n",
    "c = B[test_document, 2][0]  # counts of those vocabs **in document d**, c_m,d\n",
    "\n",
    "print('vocab IDs, w =', w, '\\n')\n",
    "print('vocab counts, c =', c, '\\n')\n",
    "\n",
    "print('Check if `w` and `c` have the same length:', w.shape == c.shape, '\\n')\n",
    "\n",
    "print('There are', w.shape[0], 'vocabs in doc', d, ';', sum(c), 'words in total', '\\n')\n",
    "\n",
    "BI_beta = np.load('results/b/BI_beta_IDorder.npy')    # gamma = 1\n",
    "print('BI_beta =', BI_beta)"
   ]
  },
  {
   "cell_type": "code",
   "execution_count": 67,
   "metadata": {},
   "outputs": [
    {
     "data": {
      "text/plain": [
       "-3688.6211698172983"
      ]
     },
     "execution_count": 67,
     "metadata": {},
     "output_type": "execute_result"
    }
   ],
   "source": [
    "log_prob_sequence_d = 0\n",
    "\n",
    "for i, m in enumerate(w):    # iterate over all vocab IDs in doc d.\n",
    "    \n",
    "    log_prob_sequence_d += c[i] * np.log(BI_beta[m-1])    \n",
    "    # `m-1` because `m` being the vocab IDs start from 1, but python indexing starts from 0.\n",
    "    # `c[i]` is the vocab count c_m corresponding to the current beta_m\n",
    "    \n",
    "log_prob_sequence_d"
   ]
  },
  {
   "cell_type": "markdown",
   "metadata": {},
   "source": [
    "### Calculate per-word perplexity for doc 2001"
   ]
  },
  {
   "cell_type": "code",
   "execution_count": 69,
   "metadata": {},
   "outputs": [
    {
     "data": {
      "text/plain": [
       "4373.110988104829"
      ]
     },
     "execution_count": 69,
     "metadata": {},
     "output_type": "execute_result"
    }
   ],
   "source": [
    "N_d = sum(c)    # total no of words in doc d.\n",
    "\n",
    "PWPP_d = np.exp(- 1/N_d * log_prob_sequence_d)\n",
    "PWPP_d"
   ]
  },
  {
   "cell_type": "markdown",
   "metadata": {},
   "source": [
    "### Calculate per-word perplexity over all documents in B"
   ]
  },
  {
   "cell_type": "markdown",
   "metadata": {},
   "source": [
    "*Be careful about re-running the codes above after running the code below, cuz variables with the same names are defined below.*"
   ]
  },
  {
   "cell_type": "code",
   "execution_count": 93,
   "metadata": {
    "scrolled": false
   },
   "outputs": [
    {
     "name": "stdout",
     "output_type": "stream",
     "text": [
      "PWPP_test_set = 2683.9840703508507\n"
     ]
    }
   ],
   "source": [
    "test_docs = np.unique(B[:,0])\n",
    "# print(test_docs)\n",
    "\n",
    "log_prob_test_set = 0\n",
    "log_prob_docs = []\n",
    "word_count_docs = []\n",
    "\n",
    "for d in test_docs:\n",
    "    \n",
    "    # Retrive info from doc d as before.\n",
    "    test_document = np.where(B[:, 0] == d)\n",
    "    w = B[test_document, 1][0]    # vocab IDs in doc d\n",
    "    c = B[test_document, 2][0]    # vocab counts in doc d\n",
    "    \n",
    "    # Calculate log prob for doc d as before.\n",
    "    log_prob_sequence_d = 0\n",
    "    for i, m in enumerate(w):    # iterate over all vocab IDs in doc d.\n",
    "        log_prob_sequence_d += c[i] * np.log(BI_beta[m-1]) \n",
    "    \n",
    "    log_prob_test_set += log_prob_sequence_d\n",
    "    \n",
    "    log_prob_docs.append(log_prob_sequence_d)\n",
    "    word_count_docs.append(sum(c))\n",
    "\n",
    "N_test_set = np.sum(B[:,2])\n",
    "PWPP_test_set = np.exp(- 1/N_test_set * log_prob_test_set)\n",
    "print('PWPP_test_set =', PWPP_test_set)\n",
    "\n",
    "\n",
    "# Sanity Check: `N_test_set` is indeed the total word counts across all test docs.   [Test passed]\n",
    "# print(sum(word_count_docs) == N_test_set)"
   ]
  },
  {
   "cell_type": "markdown",
   "metadata": {},
   "source": [
    "### Demonstrate different test docs have different perplexities `PWPP_d` given the trained $\\beta_m$."
   ]
  },
  {
   "cell_type": "code",
   "execution_count": 128,
   "metadata": {},
   "outputs": [
    {
     "data": {
      "image/png": "[encoded data removed]",
      "text/plain": [
       "<Figure size 432x288 with 1 Axes>"
      ]
     },
     "metadata": {
      "needs_background": "light"
     },
     "output_type": "display_data"
    }
   ],
   "source": [
    "# Sanity Check: the lists of log prob and total word counts of the test doc match each other.\n",
    "# len(log_prob_docs) == len(word_count_docs)\n",
    "\n",
    "PWPP_docs = []\n",
    "\n",
    "for i, log_prob_d in enumerate(log_prob_docs):\n",
    "    PWPP_d = np.exp(- 1/word_count_docs[i] * log_prob_d)  # PWPP for a single doc.\n",
    "    PWPP_docs.append(PWPP_d)\n",
    "\n",
    "# print(PWPP_docs)  # Note that the first element matches the PWPP_d for doc 2001, which equals 4373.1.\n",
    "\n",
    "# plt.figure(figsize=(8,2))\n",
    "# plt.plot(test_docs, log_prob_docs, '.', label='log probability of word sequence of each doc')\n",
    "plt.plot(test_docs, PWPP_docs, '.', label='vocab distribution trained by Bayesian Inference')\n",
    "\n",
    "plt.plot(test_docs, [M]*test_docs.shape[0], label='vocab distribution with uniform multinomial')\n",
    "\n",
    "# plt.plot(test_docs, [0]*test_docs.shape[0], 'k')\n",
    "\n",
    "plt.ylim([-3000,11000])\n",
    "plt.legend(loc='lower center')\n",
    "\n",
    "plt.xlabel('test document ID')\n",
    "plt.ylabel('per-word perplexity')\n",
    "\n",
    "plt.tight_layout()\n",
    "plt.savefig('results/c/PWPP_test.png')"
   ]
  },
  {
   "cell_type": "markdown",
   "metadata": {},
   "source": [
    "Per-word perplexity (PWPP) of a document basically means the number of \"available choices\" for choosing an observed word from all the vocabs. \"Available choices\" refers to the average number of choices **weighted by the vocab probabilities** $\\underline{\\beta}$.\n",
    "\n",
    "For example, if vocab distribution is a uniform multinomial, i.e. all vocabs have the same probability of being chosen ($\\beta_m = \\frac{1}{M}$), then for choosing an observed word, you can choose from $M = 6906$ \"available choices\". The PPWP is $M$, as shown in ***Figure 3***.\n",
    "\n",
    "On the other hand, when the vocab distribution is trained by Bayesian Inference, some vocabs will have higher probabilities $\\beta_m$ than others because they were previously observed more frequently in the training documents. This extra information lowers the uncertainty for choosing an observed word in a test document, hence the number of \"available choices\" (PWPP) decreases, as shown in most datapoints in ***Figure 3***. As a side note, different documents have different PWPPs because their different sets of words $\\underline{w}_d$ yield different joint probabilities $p(\\underline{w}_d)$ from $\\underline{\\beta}$.\n",
    "\n",
    "Finally, an explanation for **why some test documents have PWPP (for Bayesian model) greater than $M = 6906$** is given here. Although **non-uniform** vocab multinomial distribution generally lowers PWPP, this only works when most words in the particular test document are also frequently observed in the training documents. Otherwise the joint probabilities of words in the test document will be smaller than $(\\frac{1}{M})^{N_d}$, just like the words with tiny $\\beta_m$ in ***Figure 2***. As a result, PWPPs for those documents are greater than $M$."
   ]
  }
 ],
 "metadata": {
  "kernelspec": {
   "display_name": "Python 3",
   "language": "python",
   "name": "python3"
  },
  "language_info": {
   "codemirror_mode": {
    "name": "ipython",
    "version": 3
   },
   "file_extension": ".py",
   "mimetype": "text/x-python",
   "name": "python",
   "nbconvert_exporter": "python",
   "pygments_lexer": "ipython3",
   "version": "3.6.8"
  }
 },
 "nbformat": 4,
 "nbformat_minor": 2
}
