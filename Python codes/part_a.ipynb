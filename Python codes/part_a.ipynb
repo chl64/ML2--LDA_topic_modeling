{
 "cells": [
  {
   "cell_type": "markdown",
   "metadata": {},
   "source": [
    "## Maximum Likelihood Multinomial Model"
   ]
  },
  {
   "cell_type": "code",
   "execution_count": 1,
   "metadata": {},
   "outputs": [
    {
     "data": {
      "text/plain": [
       "{'__header__': b'MATLAB 5.0 MAT-file, Platform: GLNXA64, Created on: Fri Feb 17 18:20:08 2012',\n",
       " '__version__': '1.0',\n",
       " '__globals__': [],\n",
       " 'A': array([[   1,    2,    1],\n",
       "        [   1,   15,    1],\n",
       "        [   1,   28,    1],\n",
       "        ...,\n",
       "        [2000, 6689,    1],\n",
       "        [2000, 6761,    1],\n",
       "        [2000, 6798,    2]], dtype=uint16),\n",
       " 'B': array([[2001,   69,    3],\n",
       "        [2001,   75,    1],\n",
       "        [2001,   76,    1],\n",
       "        ...,\n",
       "        [3430, 6738,    1],\n",
       "        [3430, 6760,    1],\n",
       "        [3430, 6767,    1]], dtype=uint16),\n",
       " 'V': array([[array(['aarp'], dtype='<U4')],\n",
       "        [array(['abandon'], dtype='<U7')],\n",
       "        [array(['abandoned'], dtype='<U9')],\n",
       "        ...,\n",
       "        [array(['zogbys'], dtype='<U6')],\n",
       "        [array(['zone'], dtype='<U4')],\n",
       "        [array(['zones'], dtype='<U5')]], dtype=object)}"
      ]
     },
     "execution_count": 1,
     "metadata": {},
     "output_type": "execute_result"
    }
   ],
   "source": [
    "import scipy.io as sio\n",
    "\n",
    "data = sio.loadmat('kos_doc_data.mat')\n",
    "data"
   ]
  },
  {
   "cell_type": "code",
   "execution_count": 2,
   "metadata": {},
   "outputs": [
    {
     "name": "stdout",
     "output_type": "stream",
     "text": [
      "(205211, 3)\n",
      "(6906, 1)\n",
      "[[array(['aarp'], dtype='<U4')]\n",
      " [array(['abandon'], dtype='<U7')]]\n"
     ]
    }
   ],
   "source": [
    "A = data['A']   # doc ID, vocab ID, vocab count\n",
    "B = data['B']\n",
    "V = data['V']   # names of all the vocabs\n",
    "print(A.shape)\n",
    "print(V.shape)\n",
    "print(V[:2])"
   ]
  },
  {
   "cell_type": "code",
   "execution_count": 3,
   "metadata": {},
   "outputs": [
    {
     "data": {
      "text/plain": [
       "array([[   1,    2,    1],\n",
       "       [   1,   15,    1],\n",
       "       [   1,   28,    1],\n",
       "       ...,\n",
       "       [2000, 6689,    1],\n",
       "       [2000, 6761,    1],\n",
       "       [2000, 6798,    2]], dtype=uint16)"
      ]
     },
     "execution_count": 3,
     "metadata": {},
     "output_type": "execute_result"
    }
   ],
   "source": [
    "A"
   ]
  },
  {
   "cell_type": "code",
   "execution_count": 4,
   "metadata": {},
   "outputs": [
    {
     "name": "stdout",
     "output_type": "stream",
     "text": [
      "Maximum vocab counts in `A` = 29\n"
     ]
    }
   ],
   "source": [
    "print('Maximum vocab counts in `A` =', max(A[:,2]))"
   ]
  },
  {
   "cell_type": "markdown",
   "metadata": {},
   "source": [
    "### Import data into pandas Dataframe for clearer demo."
   ]
  },
  {
   "cell_type": "code",
   "execution_count": 5,
   "metadata": {},
   "outputs": [],
   "source": [
    "# import pandas as pd\n",
    "\n",
    "# pd.set_option('display.max_rows', 6)\n",
    "\n",
    "# df_docsA = pd.DataFrame()\n",
    "\n",
    "# df_docsA['document ID'] = A[:,0]\n",
    "# df_docsA['vocab ID'] = A[:,1]\n",
    "# df_docsA['vocab counts'] = A[:,2]\n",
    "\n",
    "# df_docsA"
   ]
  },
  {
   "cell_type": "code",
   "execution_count": 6,
   "metadata": {},
   "outputs": [],
   "source": [
    "# df_docsB = pd.DataFrame()\n",
    "\n",
    "# df_docsB['document ID'] = B[:,0]\n",
    "# df_docsB['vocab ID'] = B[:,1]\n",
    "# df_docsB['vocab counts'] = B[:,2]\n",
    "\n",
    "# df_docsB"
   ]
  },
  {
   "cell_type": "markdown",
   "metadata": {},
   "source": [
    "### Explore vocabs in `A` and `B`"
   ]
  },
  {
   "cell_type": "code",
   "execution_count": 7,
   "metadata": {},
   "outputs": [
    {
     "name": "stdout",
     "output_type": "stream",
     "text": [
      "[   1    2    3 ... 6904 6905 6906]\n"
     ]
    },
    {
     "data": {
      "text/plain": [
       "(6892,)"
      ]
     },
     "execution_count": 7,
     "metadata": {},
     "output_type": "execute_result"
    }
   ],
   "source": [
    "import numpy as np\n",
    "\n",
    "train_vocab_IDs = np.unique(A[:, 1])\n",
    "print(train_vocab_IDs)\n",
    "train_vocab_IDs.shape"
   ]
  },
  {
   "cell_type": "code",
   "execution_count": 8,
   "metadata": {},
   "outputs": [
    {
     "name": "stdout",
     "output_type": "stream",
     "text": [
      "[   1    2    3 ... 6904 6905 6906]\n"
     ]
    },
    {
     "data": {
      "text/plain": [
       "(6870,)"
      ]
     },
     "execution_count": 8,
     "metadata": {},
     "output_type": "execute_result"
    }
   ],
   "source": [
    "test_vocab_IDs = np.unique(B[:,1])\n",
    "print(test_vocab_IDs)\n",
    "test_vocab_IDs.shape"
   ]
  },
  {
   "cell_type": "markdown",
   "metadata": {},
   "source": [
    "^ vocabs ID for both `A` and `B` go up to 6906. However, there are only 6892 unique IDs in `A`, and even less no (6870 unique IDs) in `B`."
   ]
  },
  {
   "cell_type": "markdown",
   "metadata": {},
   "source": [
    "### Discover difference in vocab set b/w `A` and `B`"
   ]
  },
  {
   "cell_type": "code",
   "execution_count": 9,
   "metadata": {
    "scrolled": true
   },
   "outputs": [
    {
     "name": "stdout",
     "output_type": "stream",
     "text": [
      "The following are the (IDs of) vocabs which exists in `A` but not in `B`:\n",
      "\n",
      "[ 259  491  633  968 1018 1213 1592 1596 1855 1863 1917 2045 2159 2441\n",
      " 2637 2688 2696 2709 2740 3158 3571 3628 3824 4245 4385 4487 4911 5324\n",
      " 5396 5455 5488 6178 6202 6302 6737 6850]\n",
      "36 of them.\n",
      "\n",
      " ['andor', 'ayatollah', 'bit', 'census', 'charts', 'communities', 'dec', 'december', 'dncs', 'documented', 'drama', 'email', 'ethical', 'flash', 'gen', 'god', 'goodness', 'gotta', 'gray', 'ineffective', 'lend', 'lindsey', 'matsunaka', 'oconnor', 'pac', 'penn', 'qaeda', 'robust', 'rusty', 'scan', 'scope', 'taste', 'televised', 'tiny', 'website', 'wouldnt']\n"
     ]
    }
   ],
   "source": [
    "print('The following are the (IDs of) vocabs which exists in `A` but not in `B`:\\n')\n",
    "vocabIDs_inA_notB = np.setdiff1d(train_vocab_IDs, test_vocab_IDs)\n",
    "\n",
    "print(vocabIDs_inA_notB)\n",
    "print(vocabIDs_inA_notB.shape[0], 'of them.')\n",
    "\n",
    "vocabNames_inA_notB = [ name[0][0] for name in V[vocabIDs_inA_notB] ]\n",
    "print('\\n',vocabNames_inA_notB)"
   ]
  },
  {
   "cell_type": "code",
   "execution_count": 10,
   "metadata": {},
   "outputs": [],
   "source": [
    "# print('Vocabs only in training set but not in test set:')\n",
    "# # vocabNames_inA_notB\n",
    "# print('\\n',vocabNames_inA_notB)"
   ]
  },
  {
   "cell_type": "code",
   "execution_count": 11,
   "metadata": {},
   "outputs": [
    {
     "name": "stdout",
     "output_type": "stream",
     "text": [
      "The following are the (IDs of) vocabs which exists in `B` but not in `A`:\n",
      "\n",
      "[ 196  234  249  816  949 1584 2666 3607 3842 5416 5480 5811 5839 5919]\n",
      "14 of them.\n",
      "\n",
      " ['ali', 'amendment', 'ample', 'bulk', 'cattle', 'death', 'giant', 'lieberman', 'mcentee', 'sailor', 'schwarzenegger', 'specializes', 'split', 'stem']\n"
     ]
    }
   ],
   "source": [
    "print('The following are the (IDs of) vocabs which exists in `B` but not in `A`:\\n')\n",
    "\n",
    "vocabIDs_inB_notA = np.setdiff1d(test_vocab_IDs, train_vocab_IDs)\n",
    "print(vocabIDs_inB_notA)\n",
    "print(vocabIDs_inB_notA.shape[0], 'of them.')\n",
    "\n",
    "vocabNames_inB_notA = [ name[0][0] for name in V[vocabIDs_inB_notA] ]\n",
    "print('\\n', vocabNames_inB_notA)"
   ]
  },
  {
   "cell_type": "code",
   "execution_count": 12,
   "metadata": {},
   "outputs": [],
   "source": [
    "# print('Vocabs only in test set but not in training set:')\n",
    "# print('\\n',vocabNames_inB_notA)"
   ]
  },
  {
   "cell_type": "markdown",
   "metadata": {},
   "source": [
    "### Compute maximum likelihood of word probs from `A`."
   ]
  },
  {
   "cell_type": "code",
   "execution_count": 13,
   "metadata": {},
   "outputs": [
    {
     "name": "stdout",
     "output_type": "stream",
     "text": [
      "271898.0\n"
     ]
    },
    {
     "data": {
      "text/plain": [
       "array([1.47113991e-05, 6.25234463e-05, 4.78120472e-05, ...,\n",
       "       6.25234463e-05, 1.17691193e-04, 2.20670987e-05])"
      ]
     },
     "execution_count": 13,
     "metadata": {},
     "output_type": "execute_result"
    }
   ],
   "source": [
    "# Compute maximum likelihood beta_ = [beta_1, ..., beta_M].T\n",
    "# Each scalar beta_m simply equals \"count of vocab m across all docs in A\" / \"total counts of all vocab across all docs.\"\n",
    "\n",
    "beta_IDorder = np.zeros(V.shape[0])\n",
    "\n",
    "for vocab_m in train_vocab_IDs:   # Start from 1 to 6906, with missing numbers in between.\n",
    "        \n",
    "    vocab_m_indices = np.where(A[:,1] == vocab_m)\n",
    "\n",
    "    c_m = np.sum(A[vocab_m_indices, 2].T)\n",
    "    \n",
    "    beta_IDorder[vocab_m - 1] = c_m   # \"count of vocab m across all docs in A\"\n",
    "\n",
    "print(np.sum(beta_IDorder))\n",
    "    \n",
    "beta_IDorder = beta_IDorder/np.sum(beta_IDorder)   # Divide every c_m by \"total counts of all vocab across all docs.\"\n",
    "\n",
    "# Sanity check: Summing all beta_m should give unity. [Test passed]\n",
    "# np.sum(beta_IDorder)\n",
    "\n",
    "beta_IDorder    # shape = (6906,)"
   ]
  },
  {
   "cell_type": "markdown",
   "metadata": {},
   "source": [
    "### Show the 20 largest probabilities $\\beta_m$ in a histogram."
   ]
  },
  {
   "cell_type": "code",
   "execution_count": 14,
   "metadata": {},
   "outputs": [
    {
     "name": "stdout",
     "output_type": "stream",
     "text": [
      "i_ascending_order = [ 815 5918 3606 ... 4195 3419  840]\n",
      "beta_ascending_order = [0.         0.         0.         ... 0.00841124 0.00967642 0.0140972 ]\n"
     ]
    },
    {
     "data": {
      "image/png": "[encoded data removed]",
      "text/plain": [
       "<Figure size 432x288 with 1 Axes>"
      ]
     },
     "metadata": {
      "needs_background": "light"
     },
     "output_type": "display_data"
    }
   ],
   "source": [
    "import numpy as np\n",
    "import matplotlib.pyplot as plt\n",
    "%matplotlib inline\n",
    "\n",
    "i_ascending_order = np.argsort(beta_IDorder)   # minus sign gives descending order.\n",
    "print('i_ascending_order =', i_ascending_order)\n",
    "\n",
    "beta_ascending_order = beta_IDorder[i_ascending_order]\n",
    "print('beta_ascending_order =', beta_ascending_order)\n",
    "\n",
    "# Sanity Check: There should be 6892 out of 6906 vocabs having non-zero probabilities, \n",
    "# because there were only 6892 unique vocabs in `A`.  [Test passed.]\n",
    "# np.count_nonzero(beta_ascending_order)\n",
    "\n",
    "\n",
    "# Plot histogram for num=20 largest beta_m.\n",
    "num = 20\n",
    "\n",
    "x_pos = np.linspace(1, num, num)    # 'endpoint=True' by default\n",
    "plt.barh(x_pos, beta_ascending_order[-num:])\n",
    "\n",
    "vocab_names = [ name[0][0] for name in V[i_ascending_order[-num:]] ]\n",
    "\n",
    "plt.yticks(x_pos, vocab_names)\n",
    "\n",
    "plt.xlabel('probability of word')\n",
    "plt.ylabel('word')\n",
    "\n",
    "plt.show()\n",
    "\n",
    "np.save('results/a/ML_beta.npy', beta_ascending_order)\n",
    "np.save('results/a/ML_vocab_names.npy', [ name[0][0] for name in V[i_ascending_order] ])"
   ]
  }
 ],
 "metadata": {
  "kernelspec": {
   "display_name": "Python 3",
   "language": "python",
   "name": "python3"
  },
  "language_info": {
   "codemirror_mode": {
    "name": "ipython",
    "version": 3
   },
   "file_extension": ".py",
   "mimetype": "text/x-python",
   "name": "python",
   "nbconvert_exporter": "python",
   "pygments_lexer": "ipython3",
   "version": "3.6.8"
  }
 },
 "nbformat": 4,
 "nbformat_minor": 2
}
