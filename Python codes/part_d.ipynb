{
 "cells": [
  {
   "cell_type": "markdown",
   "metadata": {},
   "source": [
    "## Bayesian Mixture Model"
   ]
  },
  {
   "cell_type": "code",
   "execution_count": 1,
   "metadata": {},
   "outputs": [
    {
     "data": {
      "text/plain": [
       "6906"
      ]
     },
     "execution_count": 1,
     "metadata": {},
     "output_type": "execute_result"
    }
   ],
   "source": [
    "import scipy.io as sio\n",
    "import numpy as np\n",
    "import matplotlib.pyplot as plt\n",
    "%matplotlib inline\n",
    "\n",
    "data = sio.loadmat('kos_doc_data.mat')\n",
    "\n",
    "A = data['A']\n",
    "B = data['B']\n",
    "V = data['V']\n",
    "\n",
    "M = np.max([np.max(A[:, 1]), np.max(B[:, 1])])   # total no of vocabs\n",
    "M"
   ]
  },
  {
   "cell_type": "markdown",
   "metadata": {},
   "source": [
    "### Plot the evolution of the mixing proportions as a function of the number of Gibbs sweeps up to 50 iterations"
   ]
  },
  {
   "cell_type": "markdown",
   "metadata": {},
   "source": [
    "Now each topic $k$ has their own vocab distribution $\\underline{\\beta} = [\\beta_1, ..., \\beta_M]$."
   ]
  },
  {
   "cell_type": "code",
   "execution_count": 15,
   "metadata": {
    "scrolled": true
   },
   "outputs": [
    {
     "name": "stdout",
     "output_type": "stream",
     "text": [
      "[ 83 101  95  95  97 115  90 117 101  98 105 100 102 120 110  81  82 102\n",
      "  98 108]\n"
     ]
    },
    {
     "name": "stderr",
     "output_type": "stream",
     "text": [
      "\r",
      "  0%|                                                                                           | 0/50 [00:00<?, ?it/s]"
     ]
    },
    {
     "name": "stdout",
     "output_type": "stream",
     "text": [
      "[ 62  27  31  48 270  44 101 161 168  18  61  18 378 174  33 177  53  66\n",
      "  51  59]\n"
     ]
    },
    {
     "name": "stderr",
     "output_type": "stream",
     "text": [
      "\r",
      "  2%|█▋                                                                                 | 1/50 [00:01<01:17,  1.57s/it]"
     ]
    },
    {
     "name": "stdout",
     "output_type": "stream",
     "text": [
      "[ 54   9  12  18 389  16  73 177 198   6  35   4 540 173  27 170  26  31\n",
      "  27  15]\n"
     ]
    },
    {
     "name": "stderr",
     "output_type": "stream",
     "text": [
      "\r",
      "  4%|███▎                                                                               | 2/50 [00:03<01:14,  1.56s/it]"
     ]
    },
    {
     "name": "stdout",
     "output_type": "stream",
     "text": [
      "[ 44   9  11  15 429   9  43 193 196   0  28   7 581 155  30 169  21  21\n",
      "  22  17]\n"
     ]
    },
    {
     "name": "stderr",
     "output_type": "stream",
     "text": [
      "\r",
      "  6%|████▉                                                                              | 3/50 [00:04<01:12,  1.55s/it]"
     ]
    },
    {
     "name": "stdout",
     "output_type": "stream",
     "text": [
      "[ 46   9  11  13 452   9  28 187 189   1  28   6 611 133  30 169  20  19\n",
      "  20  19]\n"
     ]
    },
    {
     "name": "stderr",
     "output_type": "stream",
     "text": [
      "\r",
      "  8%|██████▋                                                                            | 4/50 [00:06<01:09,  1.52s/it]"
     ]
    },
    {
     "name": "stdout",
     "output_type": "stream",
     "text": [
      "[ 45   9  12  13 465   9  18 191 181   5  26   8 622 120  24 176  17  19\n",
      "  21  19]\n"
     ]
    },
    {
     "name": "stderr",
     "output_type": "stream",
     "text": [
      "\r",
      " 10%|████████▎                                                                          | 5/50 [00:07<01:06,  1.49s/it]"
     ]
    },
    {
     "name": "stdout",
     "output_type": "stream",
     "text": [
      "[ 43   9  11  13 472   9  15 191 181   4  26  10 627 114  25 176  16  19\n",
      "  20  19]\n"
     ]
    },
    {
     "name": "stderr",
     "output_type": "stream",
     "text": [
      "\r",
      " 12%|█████████▉                                                                         | 6/50 [00:09<01:05,  1.50s/it]"
     ]
    },
    {
     "name": "stdout",
     "output_type": "stream",
     "text": [
      "[ 39   9  11  13 475   9  17 189 181   4  27  11 629 110  23 178  16  19\n",
      "  20  20]\n"
     ]
    },
    {
     "name": "stderr",
     "output_type": "stream",
     "text": [
      "\r",
      " 14%|███████████▌                                                                       | 7/50 [00:10<01:04,  1.51s/it]"
     ]
    },
    {
     "name": "stdout",
     "output_type": "stream",
     "text": [
      "[ 37   9  11  13 473   9  17 188 180   5  27  11 630 110  23 178  17  17\n",
      "  22  23]\n"
     ]
    },
    {
     "name": "stderr",
     "output_type": "stream",
     "text": [
      "\r",
      " 16%|█████████████▎                                                                     | 8/50 [00:12<01:03,  1.51s/it]"
     ]
    },
    {
     "name": "stdout",
     "output_type": "stream",
     "text": [
      "[ 39   9  11  13 473   9  16 192 178   6  27  11 624 109  23 178  16  17\n",
      "  21  28]\n"
     ]
    },
    {
     "name": "stderr",
     "output_type": "stream",
     "text": [
      "\r",
      " 18%|██████████████▉                                                                    | 9/50 [00:13<01:03,  1.55s/it]"
     ]
    },
    {
     "name": "stdout",
     "output_type": "stream",
     "text": [
      "[ 38   9  11  14 471   9  16 193 171   5  27  11 631 108  23 178  16  17\n",
      "  21  31]\n"
     ]
    },
    {
     "name": "stderr",
     "output_type": "stream",
     "text": [
      "\r",
      " 20%|████████████████▍                                                                 | 10/50 [00:15<01:02,  1.56s/it]"
     ]
    },
    {
     "name": "stdout",
     "output_type": "stream",
     "text": [
      "[ 37   9  11  13 478   9  16 194 169   5  27  11 628 107  23 178  17  17\n",
      "  21  30]\n"
     ]
    },
    {
     "name": "stderr",
     "output_type": "stream",
     "text": [
      "\r",
      " 22%|██████████████████                                                                | 11/50 [00:16<01:00,  1.56s/it]"
     ]
    },
    {
     "name": "stdout",
     "output_type": "stream",
     "text": [
      "[ 36   9  11  13 488   9  16 194 168   5  27  11 621 106  23 178  18  17\n",
      "  20  30]\n"
     ]
    },
    {
     "name": "stderr",
     "output_type": "stream",
     "text": [
      "\r",
      " 24%|███████████████████▋                                                              | 12/50 [00:18<00:59,  1.56s/it]"
     ]
    },
    {
     "name": "stdout",
     "output_type": "stream",
     "text": [
      "[ 37   9  11  13 489   9  16 191 170   5  27  11 621 105  23 178  17  17\n",
      "  21  30]\n"
     ]
    },
    {
     "name": "stderr",
     "output_type": "stream",
     "text": [
      "\r",
      " 26%|█████████████████████▎                                                            | 13/50 [00:19<00:57,  1.56s/it]"
     ]
    },
    {
     "name": "stdout",
     "output_type": "stream",
     "text": [
      "[ 37   9  11  13 496   9  16 194 168   5  27  11 612 105  23 178  17  17\n",
      "  21  31]\n"
     ]
    },
    {
     "name": "stderr",
     "output_type": "stream",
     "text": [
      "\r",
      " 28%|██████████████████████▉                                                           | 14/50 [00:21<00:56,  1.56s/it]"
     ]
    },
    {
     "name": "stdout",
     "output_type": "stream",
     "text": [
      "[ 36   9  11  12 512   9  14 191 164   5  27  11 605 106  23 178  17  17\n",
      "  21  32]\n"
     ]
    },
    {
     "name": "stderr",
     "output_type": "stream",
     "text": [
      "\r",
      " 30%|████████████████████████▌                                                         | 15/50 [00:23<00:54,  1.56s/it]"
     ]
    },
    {
     "name": "stdout",
     "output_type": "stream",
     "text": [
      "[ 36   9  11  14 512   9  12 194 166   5  27  11 597 108  23 178  17  17\n",
      "  23  31]\n"
     ]
    },
    {
     "name": "stderr",
     "output_type": "stream",
     "text": [
      "\r",
      " 32%|██████████████████████████▏                                                       | 16/50 [00:24<00:53,  1.56s/it]"
     ]
    },
    {
     "name": "stdout",
     "output_type": "stream",
     "text": [
      "[ 36   9  11  12 512   9  11 197 168   5  26  11 598 107  23 178  17  17\n",
      "  22  31]\n"
     ]
    },
    {
     "name": "stderr",
     "output_type": "stream",
     "text": [
      "\r",
      " 34%|███████████████████████████▉                                                      | 17/50 [00:26<00:51,  1.55s/it]"
     ]
    },
    {
     "name": "stdout",
     "output_type": "stream",
     "text": [
      "[ 35   9  11  12 523   9   9 191 169   5  26  11 593 108  23 178  18  17\n",
      "  21  32]\n"
     ]
    },
    {
     "name": "stderr",
     "output_type": "stream",
     "text": [
      "\r",
      " 36%|█████████████████████████████▌                                                    | 18/50 [00:27<00:49,  1.55s/it]"
     ]
    },
    {
     "name": "stdout",
     "output_type": "stream",
     "text": [
      "[ 38   9  11  12 521   9  10 197 170   5  26  11 584 108  23 178  17  17\n",
      "  23  31]\n"
     ]
    },
    {
     "name": "stderr",
     "output_type": "stream",
     "text": [
      "\r",
      " 38%|███████████████████████████████▏                                                  | 19/50 [00:29<00:48,  1.55s/it]"
     ]
    },
    {
     "name": "stdout",
     "output_type": "stream",
     "text": [
      "[ 35   9  11  13 523   9  10 196 168   5  27  11 584 109  23 178  18  17\n",
      "  23  31]\n"
     ]
    },
    {
     "name": "stderr",
     "output_type": "stream",
     "text": [
      "\r",
      " 40%|████████████████████████████████▊                                                 | 20/50 [00:30<00:46,  1.56s/it]"
     ]
    },
    {
     "name": "stdout",
     "output_type": "stream",
     "text": [
      "[ 36   9  11  12 521   9   9 195 166   5  27  11 592 107  23 178  18  17\n",
      "  23  31]\n"
     ]
    },
    {
     "name": "stderr",
     "output_type": "stream",
     "text": [
      "\r",
      " 42%|██████████████████████████████████▍                                               | 21/50 [00:32<00:45,  1.56s/it]"
     ]
    },
    {
     "name": "stdout",
     "output_type": "stream",
     "text": [
      "[ 36   9  11  13 526   9  10 193 163   5  27  11 591 106  23 178  18  17\n",
      "  22  32]\n"
     ]
    },
    {
     "name": "stderr",
     "output_type": "stream",
     "text": [
      "\r",
      " 44%|████████████████████████████████████                                              | 22/50 [00:33<00:43,  1.57s/it]"
     ]
    },
    {
     "name": "stdout",
     "output_type": "stream",
     "text": [
      "[ 37   9  11  14 524   9   9 190 166   5  27  11 591 108  23 179  18  17\n",
      "  21  31]\n"
     ]
    },
    {
     "name": "stderr",
     "output_type": "stream",
     "text": [
      "\r",
      " 46%|█████████████████████████████████████▋                                            | 23/50 [00:35<00:42,  1.56s/it]"
     ]
    },
    {
     "name": "stdout",
     "output_type": "stream",
     "text": [
      "[ 36   9  11  12 531   9  10 192 164   5  27  11 587 107  23 178  18  17\n",
      "  21  32]\n"
     ]
    },
    {
     "name": "stderr",
     "output_type": "stream",
     "text": [
      "\r",
      " 48%|███████████████████████████████████████▎                                          | 24/50 [00:37<00:40,  1.56s/it]"
     ]
    },
    {
     "name": "stdout",
     "output_type": "stream",
     "text": [
      "[ 37   9  11  13 518   9   9 196 167   5  27  11 591 108  23 178  17  17\n",
      "  21  33]\n"
     ]
    },
    {
     "name": "stderr",
     "output_type": "stream",
     "text": [
      "\r",
      " 50%|█████████████████████████████████████████                                         | 25/50 [00:38<00:39,  1.56s/it]"
     ]
    },
    {
     "name": "stdout",
     "output_type": "stream",
     "text": [
      "[ 36   9  11  13 520   9  10 195 167   5  27  11 591 106  23 178  18  17\n",
      "  21  33]\n"
     ]
    },
    {
     "name": "stderr",
     "output_type": "stream",
     "text": [
      "\r",
      " 52%|██████████████████████████████████████████▋                                       | 26/50 [00:40<00:37,  1.56s/it]"
     ]
    },
    {
     "name": "stdout",
     "output_type": "stream",
     "text": [
      "[ 35   9  11  12 523   9  10 191 167   5  27  11 597 107  23 178  17  17\n",
      "  20  31]\n"
     ]
    },
    {
     "name": "stderr",
     "output_type": "stream",
     "text": [
      "\r",
      " 54%|████████████████████████████████████████████▎                                     | 27/50 [00:41<00:35,  1.55s/it]"
     ]
    },
    {
     "name": "stdout",
     "output_type": "stream",
     "text": [
      "[ 32   9  11  13 525   9  10 193 169   5  27  11 591 106  23 178  18  17\n",
      "  22  31]\n"
     ]
    },
    {
     "name": "stderr",
     "output_type": "stream",
     "text": [
      "\r",
      " 56%|█████████████████████████████████████████████▉                                    | 28/50 [00:43<00:34,  1.56s/it]"
     ]
    },
    {
     "name": "stdout",
     "output_type": "stream",
     "text": [
      "[ 30   9  11  13 531   9  10 194 169   5  27  11 585 107  23 178  17  17\n",
      "  23  31]\n"
     ]
    },
    {
     "name": "stderr",
     "output_type": "stream",
     "text": [
      "\r",
      " 58%|███████████████████████████████████████████████▌                                  | 29/50 [00:44<00:33,  1.57s/it]"
     ]
    },
    {
     "name": "stdout",
     "output_type": "stream",
     "text": [
      "[ 31   9  11  13 530   9   9 196 167   5  27  11 584 107  23 178  18  17\n",
      "  23  32]\n"
     ]
    },
    {
     "name": "stderr",
     "output_type": "stream",
     "text": [
      "\r",
      " 60%|█████████████████████████████████████████████████▏                                | 30/50 [00:46<00:31,  1.57s/it]"
     ]
    },
    {
     "name": "stdout",
     "output_type": "stream",
     "text": [
      "[ 29   9  11  13 537   9   9 191 165   5  27  11 587 107  23 178  18  17\n",
      "  23  31]\n"
     ]
    },
    {
     "name": "stderr",
     "output_type": "stream",
     "text": [
      "\r",
      " 62%|██████████████████████████████████████████████████▊                               | 31/50 [00:48<00:29,  1.57s/it]"
     ]
    },
    {
     "name": "stdout",
     "output_type": "stream",
     "text": [
      "[ 27   9  11  12 547   9  10 193 165   5  26  11 578 107  23 178  18  17\n",
      "  23  31]\n"
     ]
    },
    {
     "name": "stderr",
     "output_type": "stream",
     "text": [
      "\r",
      " 64%|████████████████████████████████████████████████████▍                             | 32/50 [00:49<00:28,  1.57s/it]"
     ]
    },
    {
     "name": "stdout",
     "output_type": "stream",
     "text": [
      "[ 28   9  11  14 545   7  10 198 164   5  26  11 579 106  22 179  17  17\n",
      "  21  31]\n"
     ]
    },
    {
     "name": "stderr",
     "output_type": "stream",
     "text": [
      "\r",
      " 66%|██████████████████████████████████████████████████████                            | 33/50 [00:51<00:26,  1.56s/it]"
     ]
    },
    {
     "name": "stdout",
     "output_type": "stream",
     "text": [
      "[ 25   9  12  13 561   3  10 193 164   5  26  11 575 105  23 178  16  18\n",
      "  21  32]\n"
     ]
    },
    {
     "name": "stderr",
     "output_type": "stream",
     "text": [
      "\r",
      " 68%|███████████████████████████████████████████████████████▊                          | 34/50 [00:52<00:24,  1.55s/it]"
     ]
    },
    {
     "name": "stdout",
     "output_type": "stream",
     "text": [
      "[ 22   9  11  13 561   3   9 199 165   5  26  11 573 105  23 178  15  18\n",
      "  23  31]\n"
     ]
    },
    {
     "name": "stderr",
     "output_type": "stream",
     "text": [
      "\r",
      " 70%|█████████████████████████████████████████████████████████▍                        | 35/50 [00:54<00:23,  1.56s/it]"
     ]
    },
    {
     "name": "stdout",
     "output_type": "stream",
     "text": [
      "[ 23   9  11  13 567   3   9 191 164   5  26  11 573 106  23 178  15  18\n",
      "  23  32]\n"
     ]
    },
    {
     "name": "stderr",
     "output_type": "stream",
     "text": [
      "\r",
      " 72%|███████████████████████████████████████████████████████████                       | 36/50 [00:55<00:21,  1.56s/it]"
     ]
    },
    {
     "name": "stdout",
     "output_type": "stream",
     "text": [
      "[ 21   9  11  13 574   3  10 192 165   5  27  11 567 105  23 178  15  18\n",
      "  22  31]\n"
     ]
    },
    {
     "name": "stderr",
     "output_type": "stream",
     "text": [
      "\r",
      " 74%|████████████████████████████████████████████████████████████▋                     | 37/50 [00:57<00:20,  1.57s/it]"
     ]
    },
    {
     "name": "stdout",
     "output_type": "stream",
     "text": [
      "[ 21   9  11  13 572   3  10 193 165   5  27  11 570 104  23 178  15  18\n",
      "  21  31]\n"
     ]
    },
    {
     "name": "stderr",
     "output_type": "stream",
     "text": [
      "\r",
      " 76%|██████████████████████████████████████████████████████████████▎                   | 38/50 [00:59<00:20,  1.70s/it]"
     ]
    },
    {
     "name": "stdout",
     "output_type": "stream",
     "text": [
      "[ 21   9  11  13 576   3  10 192 164   5  27  11 566 104  23 178  16  18\n",
      "  23  30]\n"
     ]
    },
    {
     "name": "stderr",
     "output_type": "stream",
     "text": [
      "\r",
      " 78%|███████████████████████████████████████████████████████████████▉                  | 39/50 [01:01<00:18,  1.71s/it]"
     ]
    },
    {
     "name": "stdout",
     "output_type": "stream",
     "text": [
      "[ 21   9  11  13 585   3  10 193 161   5  27  11 559 105  23 178  15  18\n",
      "  23  30]\n"
     ]
    },
    {
     "name": "stderr",
     "output_type": "stream",
     "text": [
      "\r",
      " 80%|█████████████████████████████████████████████████████████████████▌                | 40/50 [01:02<00:17,  1.72s/it]"
     ]
    },
    {
     "name": "stdout",
     "output_type": "stream",
     "text": [
      "[ 21   9  11  12 588   3  10 196 162   5  27  11 552 105  23 178  15  18\n",
      "  23  31]\n"
     ]
    },
    {
     "name": "stderr",
     "output_type": "stream",
     "text": [
      "\r",
      " 82%|███████████████████████████████████████████████████████████████████▏              | 41/50 [01:04<00:14,  1.66s/it]"
     ]
    },
    {
     "name": "stdout",
     "output_type": "stream",
     "text": [
      "[ 22   9  11  13 587   3  10 191 165   5  26  11 554 105  23 178  15  18\n",
      "  23  31]\n"
     ]
    },
    {
     "name": "stderr",
     "output_type": "stream",
     "text": [
      "\r",
      " 84%|████████████████████████████████████████████████████████████████████▉             | 42/50 [01:06<00:13,  1.64s/it]"
     ]
    },
    {
     "name": "stdout",
     "output_type": "stream",
     "text": [
      "[ 21   9  11  13 587   3  10 193 163   5  26  11 554 107  23 178  15  18\n",
      "  23  30]\n"
     ]
    },
    {
     "name": "stderr",
     "output_type": "stream",
     "text": [
      "\r",
      " 86%|██████████████████████████████████████████████████████████████████████▌           | 43/50 [01:07<00:11,  1.62s/it]"
     ]
    },
    {
     "name": "stdout",
     "output_type": "stream",
     "text": [
      "[ 19   9  11  13 589   3  10 192 163   5  26  11 554 107  23 179  15  18\n",
      "  23  30]\n"
     ]
    },
    {
     "name": "stderr",
     "output_type": "stream",
     "text": [
      "\r",
      " 88%|████████████████████████████████████████████████████████████████████████▏         | 44/50 [01:09<00:09,  1.60s/it]"
     ]
    },
    {
     "name": "stdout",
     "output_type": "stream",
     "text": [
      "[ 20   9  11  14 587   3  10 192 164   5  26  11 554 109  23 178  14  18\n",
      "  21  31]\n"
     ]
    },
    {
     "name": "stderr",
     "output_type": "stream",
     "text": [
      "\r",
      " 90%|█████████████████████████████████████████████████████████████████████████▊        | 45/50 [01:10<00:07,  1.60s/it]"
     ]
    },
    {
     "name": "stdout",
     "output_type": "stream",
     "text": [
      "[ 19   9  11  13 594   3  10 192 165   6  26  11 547 109  23 178  15  18\n",
      "  20  31]\n"
     ]
    },
    {
     "name": "stderr",
     "output_type": "stream",
     "text": [
      "\r",
      " 92%|███████████████████████████████████████████████████████████████████████████▍      | 46/50 [01:12<00:06,  1.59s/it]"
     ]
    },
    {
     "name": "stdout",
     "output_type": "stream",
     "text": [
      "[ 21   9  11  14 591   3  10 191 165   5  26  11 547 109  23 178  15  18\n",
      "  22  31]\n"
     ]
    },
    {
     "name": "stderr",
     "output_type": "stream",
     "text": [
      "\r",
      " 94%|█████████████████████████████████████████████████████████████████████████████     | 47/50 [01:13<00:04,  1.59s/it]"
     ]
    },
    {
     "name": "stdout",
     "output_type": "stream",
     "text": [
      "[ 21   9  11  13 586   3   9 195 164   5  27  11 552 108  23 178  15  18\n",
      "  21  31]\n"
     ]
    },
    {
     "name": "stderr",
     "output_type": "stream",
     "text": [
      "\r",
      " 96%|██████████████████████████████████████████████████████████████████████████████▋   | 48/50 [01:15<00:03,  1.59s/it]"
     ]
    },
    {
     "name": "stdout",
     "output_type": "stream",
     "text": [
      "[ 21   9  11  13 594   3  10 193 164   5  27  11 549 105  23 178  14  18\n",
      "  21  31]\n"
     ]
    },
    {
     "name": "stderr",
     "output_type": "stream",
     "text": [
      "\r",
      " 98%|████████████████████████████████████████████████████████████████████████████████▎ | 49/50 [01:17<00:01,  1.62s/it]"
     ]
    },
    {
     "name": "stdout",
     "output_type": "stream",
     "text": [
      "[ 19   9  12  12 598   3  10 193 163   5  27  11 544 108  23 178  15  18\n",
      "  21  31]\n"
     ]
    },
    {
     "name": "stderr",
     "output_type": "stream",
     "text": [
      "100%|██████████████████████████████████████████████████████████████████████████████████| 50/50 [01:18<00:00,  1.63s/it]\n"
     ]
    }
   ],
   "source": [
    "from bmm import BMM\n",
    "\n",
    "seed = 3\n",
    "np.random.seed(seed)\n",
    "\n",
    "K = 20  # number of clusters\n",
    "alpha = 10  # parameter of the Dirichlet over mixture components\n",
    "gamma = .1  # parameter of the Dirichlet over vocabs (for each beta_k)\n",
    "num_iters_gibbs = 50\n",
    "\n",
    "PWPP_test_set, swk, arr_of_rows_sk_docs = BMM(A, B, K, alpha, gamma, num_iters_gibbs=num_iters_gibbs)"
   ]
  },
  {
   "cell_type": "code",
   "execution_count": 16,
   "metadata": {},
   "outputs": [
    {
     "name": "stdout",
     "output_type": "stream",
     "text": [
      "2123.59626206069\n"
     ]
    }
   ],
   "source": [
    "print(PWPP_test_set)    # 2092.268119165107 with seed 1.\n",
    "                        # 2151.655670450547 with seed 2.\n",
    "                        # 2123.59626206069 with seed 3."
   ]
  },
  {
   "cell_type": "code",
   "execution_count": 17,
   "metadata": {},
   "outputs": [
    {
     "name": "stdout",
     "output_type": "stream",
     "text": [
      "[[0. 0. 0. ... 0. 0. 0.]\n",
      " [1. 0. 0. ... 0. 0. 0.]\n",
      " [0. 0. 0. ... 0. 0. 0.]\n",
      " ...\n",
      " [0. 0. 0. ... 0. 0. 0.]\n",
      " [2. 0. 0. ... 0. 0. 0.]\n",
      " [0. 0. 0. ... 0. 0. 0.]]\n"
     ]
    }
   ],
   "source": [
    "print(swk)    # The m,k-th entry is the sum of **counts for vocab m** across all train documents belonging to topic k.\n",
    "\n",
    "# Hence summing all entries in `swk` gives the total no of words in train set.\n",
    "# sk_words = np.sum(swk, axis=0)\n",
    "# print(sum(sk_words))  # total no of words in train set (== sum(A[:, 2]))."
   ]
  },
  {
   "cell_type": "code",
   "execution_count": 18,
   "metadata": {},
   "outputs": [
    {
     "name": "stdout",
     "output_type": "stream",
     "text": [
      "[[ 83 101  95 ... 102  98 108]\n",
      " [ 62  27  31 ...  66  51  59]\n",
      " [ 54   9  12 ...  31  27  15]\n",
      " ...\n",
      " [ 21   9  11 ...  18  21  31]\n",
      " [ 21   9  11 ...  18  21  31]\n",
      " [ 19   9  12 ...  18  21  31]]\n"
     ]
    }
   ],
   "source": [
    "print(arr_of_rows_sk_docs)"
   ]
  },
  {
   "cell_type": "code",
   "execution_count": 19,
   "metadata": {},
   "outputs": [
    {
     "data": {
      "text/plain": [
       "(51, 20)"
      ]
     },
     "execution_count": 19,
     "metadata": {},
     "output_type": "execute_result"
    }
   ],
   "source": [
    "arr_of_rows_sk_docs.shape"
   ]
  },
  {
   "cell_type": "code",
   "execution_count": 20,
   "metadata": {},
   "outputs": [],
   "source": [
    "'''\n",
    "x_pos = np.arange(num_iters_gibbs+1)\n",
    "\n",
    "for i in range(arr_of_rows_sk_docs.shape[1]):\n",
    "    plt.plot(x_pos, arr_of_rows_sk_docs[:,i])\n",
    "\n",
    "plt.xlabel('Gibbs iteration')\n",
    "plt.ylabel('topic count $c_k$')\n",
    "    \n",
    "print('This is just the Gibbs evolution of the document counts $c_k$ for each topic k.')\n",
    "'''\n",
    "None"
   ]
  },
  {
   "cell_type": "code",
   "execution_count": 21,
   "metadata": {},
   "outputs": [
    {
     "name": "stdout",
     "output_type": "stream",
     "text": [
      "(51, 20)\n"
     ]
    }
   ],
   "source": [
    "# predictive mean of theta_k = p(z_d = k) posterior\n",
    "\n",
    "arr_ck_plus_alpha = arr_of_rows_sk_docs + alpha\n",
    "arr_theta_k = arr_ck_plus_alpha / sum(arr_ck_plus_alpha[0])    # denominator is (K*alpha + total number of docs in train set).\n",
    "\n",
    "print(arr_theta_k.shape)\n",
    "\n",
    "# Sanity check: summing all theta_k should return unity.   [Test passed]\n",
    "# print( np.sum(arr_theta_k, axis=1) )"
   ]
  },
  {
   "cell_type": "code",
   "execution_count": 22,
   "metadata": {},
   "outputs": [
    {
     "data": {
      "image/png": "[encoded data removed]",
      "text/plain": [
       "<Figure size 432x288 with 1 Axes>"
      ]
     },
     "metadata": {
      "needs_background": "light"
     },
     "output_type": "display_data"
    }
   ],
   "source": [
    "x_pos = np.arange(num_iters_gibbs+1)\n",
    "\n",
    "for i in range(arr_theta_k.shape[1]):\n",
    "    plt.plot(x_pos, arr_theta_k[:,i], label='k='+str(i+1))\n",
    "\n",
    "plt.xlabel('Gibbs iteration')\n",
    "plt.ylabel('predictive mean of theta_k')\n",
    "plt.title('seed = '+str(seed))\n",
    "# plt.legend()\n",
    "\n",
    "plt.savefig('results/d/theta_k_seed'+str(seed)+'.png')"
   ]
  },
  {
   "cell_type": "markdown",
   "metadata": {},
   "source": [
    "### Explore the effect of initial topic assignments on the final $\\theta_k$"
   ]
  },
  {
   "cell_type": "code",
   "execution_count": 23,
   "metadata": {},
   "outputs": [
    {
     "name": "stdout",
     "output_type": "stream",
     "text": [
      "initial_topic_counts = [ 83 101  95  95  97 115  90 117 101  98 105 100 102 120 110  81  82 102\n",
      "  98 108]\n",
      "final_theta_k = [0.01318182 0.00863636 0.01       0.01       0.27636364 0.00590909\n",
      " 0.00909091 0.09227273 0.07863636 0.00681818 0.01681818 0.00954545\n",
      " 0.25181818 0.05363636 0.015      0.08545455 0.01136364 0.01272727\n",
      " 0.01409091 0.01863636]\n"
     ]
    }
   ],
   "source": [
    "initial_topic_counts = arr_of_rows_sk_docs[0]\n",
    "print('initial_topic_counts =', initial_topic_counts)\n",
    "\n",
    "final_theta_k = arr_theta_k[-1,:]\n",
    "print('final_theta_k =', final_theta_k)"
   ]
  },
  {
   "cell_type": "code",
   "execution_count": 24,
   "metadata": {},
   "outputs": [
    {
     "data": {
      "text/plain": [
       "(20,)"
      ]
     },
     "execution_count": 24,
     "metadata": {},
     "output_type": "execute_result"
    }
   ],
   "source": [
    "final_theta_k.shape"
   ]
  },
  {
   "cell_type": "code",
   "execution_count": 25,
   "metadata": {},
   "outputs": [
    {
     "name": "stderr",
     "output_type": "stream",
     "text": [
      "D:\\Anaconda3\\Lib\\site-packages\\ipykernel_launcher.py:15: MatplotlibDeprecationWarning: Adding an axes using the same arguments as a previous axes currently reuses the earlier instance.  In a future version, a new instance will always be created and returned.  Meanwhile, this warning can be suppressed, and the future behavior ensured, by passing a unique label to each axes instance.\n",
      "  from ipykernel import kernelapp as app\n"
     ]
    },
    {
     "data": {
      "image/png": "[encoded data removed]",
      "text/plain": [
       "<Figure size 432x288 with 2 Axes>"
      ]
     },
     "metadata": {
      "needs_background": "light"
     },
     "output_type": "display_data"
    }
   ],
   "source": [
    "# plot `initial_topic_counts` and `final_theta_k` on histogram.\n",
    "\n",
    "num = K\n",
    "\n",
    "x_pos = np.linspace(1, num, num)\n",
    "width = 0.35\n",
    "\n",
    "\n",
    "fig = plt.figure(figsize=(6,4))\n",
    "ax1 = fig.add_subplot(111)\n",
    "\n",
    "# fig, ax1 = plt.subplots()\n",
    "# fig.figure(figsize=(6,6))\n",
    "\n",
    "ax1 = plt.axes()\n",
    "\n",
    "ax2 = ax1.twinx()\n",
    "\n",
    "ax1.bar(x_pos, initial_topic_counts, width, color='g', label='initial topic counts')\n",
    "ax2.bar(x_pos - width, final_theta_k, width, color='r', label='final theta_k')\n",
    "\n",
    "# fig.legend()\n",
    "lines1, labels1 = ax1.get_legend_handles_labels()\n",
    "lines2, labels2 = ax2.get_legend_handles_labels()\n",
    "ax2.legend(lines1 + lines2, labels1 + labels2)\n",
    "ax1.set_ylim([0, 150])\n",
    "\n",
    "# topics_1toK = np.linspace(1,K,K)\n",
    "\n",
    "ax1.set_xticks(x_pos - width/2)\n",
    "ax1.set_xticklabels(list(map(int, x_pos)))\n",
    "\n",
    "ax1.set_xlabel('topic k')\n",
    "ax1.set_ylabel('initial topic counts')\n",
    "ax2.set_ylabel('final theta_k')\n",
    "\n",
    "ax1.set_title('Seed '+str(seed))\n",
    "\n",
    "plt.tight_layout()\n",
    "\n",
    "plt.savefig('results/d/initial_c_k_VS_final_theta_k(seed'+str(seed)+').png')"
   ]
  },
  {
   "cell_type": "markdown",
   "metadata": {},
   "source": [
    "^ From ***Figure***, there is no direct correlation between the initial topic counts and the final topic assignment probability $\\theta_k$. Different initial topic for each document results in different sets of final $\\theta_k$ because the former determines where in the manifold Gibbs sampling begins. This greatly affects which local optimal the Gibbs sampler  converges to. ***Figure theta_k evolution*** shows that with different initial topic for each document (different seeds), the Gibbs sampler converges to different sets of $\\theta_k$. The order of $\\theta_k$s according to their values are also completely different. Hence the Gibbs sampler is stuck at a local maximum, not able to converge to the global maxmum nor explore the stationary distribution."
   ]
  },
  {
   "cell_type": "markdown",
   "metadata": {},
   "source": [
    "### Explore what the last piece of code in bmm.py does."
   ]
  },
  {
   "cell_type": "code",
   "execution_count": 30,
   "metadata": {},
   "outputs": [
    {
     "data": {
      "text/plain": [
       "array([[0., 0., 0., ..., 0., 0., 0.],\n",
       "       [1., 0., 0., ..., 0., 0., 0.],\n",
       "       [0., 0., 0., ..., 0., 0., 0.],\n",
       "       ...,\n",
       "       [0., 0., 0., ..., 0., 0., 0.],\n",
       "       [2., 0., 0., ..., 0., 0., 0.],\n",
       "       [0., 0., 0., ..., 0., 0., 0.]])"
      ]
     },
     "execution_count": 30,
     "metadata": {},
     "output_type": "execute_result"
    }
   ],
   "source": [
    "swk    # The m,k-th entry is the sum of **counts for vocab m** across all train documents belonging to topic k.\n",
    "        \n",
    "       # column k (plus gamma?) is related to the vocab distribution for topic k."
   ]
  },
  {
   "cell_type": "code",
   "execution_count": 31,
   "metadata": {},
   "outputs": [
    {
     "data": {
      "text/plain": [
       "array([[1889,  840, 1143, ..., 5184,  840, 4072],\n",
       "       [3824, 5199,  928, ..., 4092, 5581,  511],\n",
       "       [1848,  965, 5551, ...,  878, 2767, 5102],\n",
       "       ...,\n",
       "       [2392, 2385, 2405, ..., 2439, 2536, 2515],\n",
       "       [2404, 2395, 2416, ..., 2450, 2504, 2485],\n",
       "       [6905, 6905, 6905, ..., 6905, 6905, 6905]], dtype=int64)"
      ]
     },
     "execution_count": 31,
     "metadata": {},
     "output_type": "execute_result"
    }
   ],
   "source": [
    "np.argsort(-swk, axis=0)"
   ]
  },
  {
   "cell_type": "code",
   "execution_count": 42,
   "metadata": {},
   "outputs": [
    {
     "name": "stdout",
     "output_type": "stream",
     "text": [
      "\n",
      "\n",
      "topic 1:\n",
      "donors\n",
      "matsunaka\n",
      "dkos\n",
      "nag\n",
      "candidates\n",
      "time\n",
      "jim\n",
      "dozen\n",
      "farmer\n",
      "knowles\n",
      "\n",
      "\n",
      "topic 2:\n",
      "bush\n",
      "research\n",
      "cell\n",
      "stem\n",
      "reagan\n",
      "reagans\n",
      "clerks\n",
      "court\n",
      "nancy\n",
      "years\n",
      "\n",
      "\n",
      "topic 3:\n",
      "coburn\n",
      "carson\n",
      "senate\n",
      "oklahoma\n",
      "humphreys\n",
      "state\n",
      "republican\n",
      "race\n",
      "candidate\n",
      "elections\n",
      "\n",
      "\n",
      "topic 4:\n",
      "bunning\n",
      "debate\n",
      "gotv\n",
      "mongiardo\n",
      "kentucky\n",
      "senator\n",
      "senate\n",
      "campaign\n",
      "bunnings\n",
      "oct\n",
      "\n",
      "\n",
      "topic 5:\n",
      "bush\n",
      "democratic\n",
      "kerry\n",
      "campaign\n",
      "party\n",
      "senate\n",
      "democrats\n",
      "house\n",
      "republican\n",
      "race\n",
      "\n",
      "\n",
      "topic 6:\n",
      "administration\n",
      "counterterrorism\n",
      "bush\n",
      "terrorism\n",
      "budget\n",
      "fbi\n",
      "ashcroft\n",
      "white\n",
      "source\n",
      "document\n",
      "\n",
      "\n",
      "topic 7:\n",
      "million\n",
      "campaign\n",
      "kerry\n",
      "bush\n",
      "funds\n",
      "spending\n",
      "democratic\n",
      "dean\n",
      "primary\n",
      "kerrys\n",
      "\n",
      "\n",
      "topic 8:\n",
      "bush\n",
      "kerry\n",
      "poll\n",
      "general\n",
      "voters\n",
      "percent\n",
      "polls\n",
      "president\n",
      "election\n",
      "race\n",
      "\n",
      "\n",
      "topic 9:\n",
      "dean\n",
      "kerry\n",
      "edwards\n",
      "clark\n",
      "primary\n",
      "democratic\n",
      "poll\n",
      "gephardt\n",
      "iowa\n",
      "lieberman\n",
      "\n",
      "\n",
      "topic 10:\n",
      "mars\n",
      "research\n",
      "dna\n",
      "life\n",
      "damage\n",
      "water\n",
      "years\n",
      "science\n",
      "researchers\n",
      "moon\n",
      "\n",
      "\n",
      "topic 11:\n",
      "delay\n",
      "committee\n",
      "house\n",
      "ethics\n",
      "texas\n",
      "democrats\n",
      "republicans\n",
      "investigation\n",
      "republican\n",
      "elections\n",
      "\n",
      "\n",
      "topic 12:\n",
      "kerry\n",
      "swift\n",
      "boat\n",
      "thurlow\n",
      "kerrys\n",
      "veterans\n",
      "campaign\n",
      "star\n",
      "bush\n",
      "john\n",
      "\n",
      "\n",
      "topic 13:\n",
      "bush\n",
      "iraq\n",
      "war\n",
      "administration\n",
      "president\n",
      "people\n",
      "american\n",
      "general\n",
      "time\n",
      "military\n",
      "\n",
      "\n",
      "topic 14:\n",
      "bush\n",
      "administration\n",
      "president\n",
      "tax\n",
      "jobs\n",
      "states\n",
      "federal\n",
      "years\n",
      "marriage\n",
      "economy\n",
      "\n",
      "\n",
      "topic 15:\n",
      "november\n",
      "bush\n",
      "house\n",
      "war\n",
      "iraq\n",
      "general\n",
      "republicans\n",
      "account\n",
      "electoral\n",
      "senate\n",
      "\n",
      "\n",
      "topic 16:\n",
      "november\n",
      "poll\n",
      "house\n",
      "bush\n",
      "senate\n",
      "republicans\n",
      "kerry\n",
      "polls\n",
      "governor\n",
      "electoral\n",
      "\n",
      "\n",
      "topic 17:\n",
      "bush\n",
      "kerry\n",
      "president\n",
      "speech\n",
      "republicans\n",
      "george\n",
      "mcgreevey\n",
      "bushs\n",
      "zell\n",
      "republican\n",
      "\n",
      "\n",
      "topic 18:\n",
      "republican\n",
      "national\n",
      "campaign\n",
      "sunday\n",
      "john\n",
      "sproul\n",
      "sens\n",
      "general\n",
      "kerry\n",
      "voters\n",
      "\n",
      "\n",
      "topic 19:\n",
      "bush\n",
      "service\n",
      "guard\n",
      "records\n",
      "national\n",
      "kerry\n",
      "military\n",
      "bushs\n",
      "house\n",
      "white\n",
      "\n",
      "\n",
      "topic 20:\n",
      "nader\n",
      "ballot\n",
      "registration\n",
      "voters\n",
      "general\n",
      "state\n",
      "percent\n",
      "ohio\n",
      "voter\n",
      "election\n"
     ]
    }
   ],
   "source": [
    "indices = np.argsort(-swk, axis=0)    # sort **each column** in descending order,\n",
    "                                      # return the vocab index `m-1`.\n",
    "\n",
    "num_of_top_words_shown = 10\n",
    "\n",
    "indices = indices[:num_of_top_words_shown, :]    # First `num_of_top_words_shown` rows, all columns.\n",
    "top_words = V[indices]\n",
    "\n",
    "for i, topic in enumerate(top_words[:, :, 0].T):\n",
    "    print('\\n')\n",
    "    print('topic '+str(i+1)+':')\n",
    "    for word in topic:\n",
    "        print(word[0])"
   ]
  },
  {
   "cell_type": "code",
   "execution_count": 38,
   "metadata": {},
   "outputs": [
    {
     "data": {
      "text/plain": [
       "(10, 20, 1)"
      ]
     },
     "execution_count": 38,
     "metadata": {},
     "output_type": "execute_result"
    }
   ],
   "source": [
    "top_words.shape    # (10, 20, 1) refers to 10 top words shown, K=20 topics in total."
   ]
  }
 ],
 "metadata": {
  "kernelspec": {
   "display_name": "Python 3",
   "language": "python",
   "name": "python3"
  },
  "language_info": {
   "codemirror_mode": {
    "name": "ipython",
    "version": 3
   },
   "file_extension": ".py",
   "mimetype": "text/x-python",
   "name": "python",
   "nbconvert_exporter": "python",
   "pygments_lexer": "ipython3",
   "version": "3.6.8"
  }
 },
 "nbformat": 4,
 "nbformat_minor": 2
}
